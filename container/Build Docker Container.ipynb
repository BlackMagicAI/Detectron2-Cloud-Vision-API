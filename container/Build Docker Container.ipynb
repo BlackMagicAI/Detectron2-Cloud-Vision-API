{
 "cells": [
  {
   "cell_type": "markdown",
   "id": "5409c06b",
   "metadata": {},
   "source": [
    "### Build Docker container\n",
    "ref: https://docs.aws.amazon.com/sagemaker/latest/dg/prebuilt-containers-extend.html\n",
    "\n",
    "Run the cell below to build the custom Docker container by extending a Prebuilt AWS Container with the correct Pytorch and Detectron2 versions and dependances needed to deply our model to a SageMaker endpoint. This will also deploy our container to the AWS Elastic Container Registry."
   ]
  },
  {
   "cell_type": "code",
   "execution_count": null,
   "id": "c9f2f62b",
   "metadata": {},
   "outputs": [],
   "source": [
    "%%bash\n",
    "# Ref: https://github.com/aws-samples/amazon-sagemaker-pytorch-detectron2/blob/main/d2_custom_sku110k.ipynb\n",
    "REGION='<INSERT_REGION_HERE>'\n",
    "ACCOUNT='<INSERT_ACCOUNT_NUMBER_HERE>'\n",
    "\n",
    "aws ecr get-login-password --region $REGION | docker login --username AWS --password-stdin 763104351884.dkr.ecr.$REGION.amazonaws.com\n",
    "# loging to your private ECR\n",
    "aws ecr get-login-password --region $REGION | docker login --username AWS --password-stdin $ACCOUNT.dkr.ecr.$REGION.amazonaws.com"
   ]
  },
  {
   "cell_type": "markdown",
   "id": "faa25a08",
   "metadata": {},
   "source": [
    "### Execute build_and_push.sh script in the container directory"
   ]
  },
  {
   "cell_type": "code",
   "execution_count": null,
   "id": "f51a1002",
   "metadata": {},
   "outputs": [],
   "source": [
    "%%bash\n",
    "chmod u=rwx build_and_push.sh Dockerfile"
   ]
  },
  {
   "cell_type": "code",
   "execution_count": null,
   "id": "4d0c5010",
   "metadata": {},
   "outputs": [],
   "source": [
    "ls -l"
   ]
  },
  {
   "cell_type": "code",
   "execution_count": null,
   "id": "797f5cff",
   "metadata": {},
   "outputs": [],
   "source": [
    "%%bash \n",
    "./build_and_push.sh"
   ]
  }
 ],
 "metadata": {
  "kernelspec": {
   "display_name": "conda_pytorch_p38",
   "language": "python",
   "name": "conda_pytorch_p38"
  },
  "language_info": {
   "codemirror_mode": {
    "name": "ipython",
    "version": 3
   },
   "file_extension": ".py",
   "mimetype": "text/x-python",
   "name": "python",
   "nbconvert_exporter": "python",
   "pygments_lexer": "ipython3",
   "version": "3.8.12"
  }
 },
 "nbformat": 4,
 "nbformat_minor": 5
}
