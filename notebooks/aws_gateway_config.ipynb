{
 "cells": [
  {
   "cell_type": "markdown",
   "metadata": {
    "id": "QHnVupBBn9eR"
   },
   "source": [
    "# Black Magic AI Detectron2 Cloud Vision API Tutorial - AWS Gateway\n",
    "\n",
    "<img src=\"../images/blackmagicailogo.png\">\n",
    "\n",
    "This tutorial demonstrats how to create the AWS API Gateway. This invokes a Lambda function which in turn invokes the Detectron2 model deployed to an AWS Sagemaker endpoint.\n",
    "\n",
    "You can make a copy of this tutorial by \"File -> Open in playground mode\" and make changes there. __DO NOT__ request access to this tutorial."
   ]
  },
  {
   "cell_type": "markdown",
   "metadata": {
    "id": "vM54r6jlKTII"
   },
   "source": [
    "# Create AWS API Gateway"
   ]
  },
  {
   "cell_type": "markdown",
   "metadata": {},
   "source": [
    "**AWS API Gateway settings**\n",
    "Ref:\n",
    "https://aws.amazon.com/blogs/machine-learning/integrate-your-amazon-lex-bot-with-any-messaging-service/\n",
    "https://aws.amazon.com/blogs/compute/handling-binary-data-using-amazon-api-gateway-http-apis/"
   ]
  },
  {
   "cell_type": "markdown",
   "metadata": {},
   "source": [
    "**API <NAME_OF_API> Settings:**\n",
    "Binary Media Types: `image/jpeg`\n",
    "\n",
    "- **Integration Request**\n",
    "\n",
    "Mapping Templates\n",
    "\n",
    "Select `\"When there are no templates defined (recommended)\"`\n",
    "\n",
    "Conent-Type: `image/jpeg`\n",
    "\n",
    "Template:\n",
    "\n",
    "    #set($inputRoot = $input.path('$'))\n",
    "    {\"body\": \"$input.body\"}\n",
    "\n",
    "Add execution role arn: panoptic-role-7ixf6wlv\n",
    "\n",
    "- **Method Response**\n",
    "\n",
    "Add **Content-Type** for Response Headers for 200\n",
    "\n",
    " - **Integration Response**\n",
    " \n",
    "Set Content handling -> `Convert to text (if needed)`\n",
    "\n",
    "Set Header Mappings\n",
    "\n",
    "Response header: `Content-Type`\n",
    "\n",
    "Mapping value: `'text/plain'`\n",
    "\n",
    "Mapping Templates\n",
    "\n",
    "Content-Type: `application/json`\n",
    "\n",
    "Template: `$input.path('$')`\n",
    "\n",
    "Deploy (stage name Prod)\n",
    "Invoke url on Post method page\n"
   ]
  }
 ],
 "metadata": {
  "accelerator": "GPU",
  "colab": {
   "collapsed_sections": [],
   "name": "Detectron2 Tutorial Demo.ipynb",
   "provenance": [],
   "toc_visible": true
  },
  "kernelspec": {
   "display_name": "conda_pytorch_latest_p36",
   "language": "python",
   "name": "conda_pytorch_latest_p36"
  },
  "language_info": {
   "codemirror_mode": {
    "name": "ipython",
    "version": 3
   },
   "file_extension": ".py",
   "mimetype": "text/x-python",
   "name": "python",
   "nbconvert_exporter": "python",
   "pygments_lexer": "ipython3",
   "version": "3.6.13"
  }
 },
 "nbformat": 4,
 "nbformat_minor": 1
}
