{
 "cells": [
  {
   "cell_type": "markdown",
   "metadata": {
    "id": "QHnVupBBn9eR"
   },
   "source": [
    "# Black Magic AI Detectron2 Cloud Vision API Tutorial - lambda function\n",
    "\n",
    "<img src=\"../images/blackmagicailogo.png\">\n",
    "\n",
    "This tutorial demonstrats how to create the lambda zip package code that is uploaded to create the AWS Lambda function that is triggered by the AWS API Gateway. This Lambda in turn invokes the Detectron2 model deployed to an AWS Sagemaker endpoint.\n",
    "\n",
    "You can make a copy of this tutorial by \"File -> Open in playground mode\" and make changes there. __DO NOT__ request access to this tutorial."
   ]
  },
  {
   "cell_type": "markdown",
   "metadata": {
    "id": "vM54r6jlKTII"
   },
   "source": [
    "# Create AWS Lambda Deployment package"
   ]
  },
  {
   "cell_type": "markdown",
   "metadata": {},
   "source": [
    "Create aws Lamda deployment zip package\n",
    "#Ref:\n",
    "\n",
    "https://docs.aws.amazon.com/lambda/latest/dg/lambda-deploy-functions.html\n",
    "\n",
    "https://docs.aws.amazon.com/lambda/latest/dg/python-package.html#python-package-create-package-no-dependency"
   ]
  },
  {
   "cell_type": "markdown",
   "metadata": {},
   "source": [
    "Lambda function code"
   ]
  },
  {
   "cell_type": "code",
   "execution_count": null,
   "metadata": {},
   "outputs": [],
   "source": [
    "%%writefile \"~/SageMaker/lamdaenv/lambda_function.py\"\n",
    "import os\n",
    "import json\n",
    "import boto3\n",
    "from base64 import b64encode,b64decode\n",
    "from io     import BytesIO\n",
    "from PIL import Image\n",
    "\n",
    "# grab environment variables\n",
    "ENDPOINT_NAME = os.environ['ENDPOINT_NAME']\n",
    "\n",
    "# Ref:\n",
    "# https://docs.aws.amazon.com/lambda/latest/dg/lambda-deploy-functions.html\n",
    "# https://docs.aws.amazon.com/lambda/latest/dg/python-package.html#python-package-create-package-no-dependency\n",
    "def lambda_handler(event, context):\n",
    "    runtime= boto3.client('runtime.sagemaker')\n",
    "    # Base64 decode data it came in encoded\n",
    "    img_string = event.get(\"body\",\"\")\n",
    "    img_data = b64decode(img_string)\n",
    "\n",
    "    img_buffer = BytesIO(img_data)\n",
    "    img_buffer.seek(0)\n",
    "    image_src = Image.open(img_buffer)\n",
    "    \n",
    "    imgByteArr = BytesIO()\n",
    "    image_src.save(imgByteArr, format=image_src.format)\n",
    "    imgByteArr = imgByteArr.getvalue()\n",
    "        \n",
    "    # Send image via InvokeEndpoint API\n",
    "    response = runtime.invoke_endpoint(EndpointName=ENDPOINT_NAME, ContentType='application/x-image', Body=imgByteArr)\n",
    "    result = response['Body'].read().decode()\n",
    "    return result"
   ]
  },
  {
   "cell_type": "code",
   "execution_count": null,
   "metadata": {},
   "outputs": [],
   "source": [
    "# lambda template\n",
    "# Create function from scratch then create function from zip file\n",
    "# Add ENDPOINT_NAME configuaration variable to lambda after creating it\n",
    "# use python 3.6 & Role panoptic-role-7ixf6wlv\n",
    "%cd ~\n",
    "%cd SageMaker/lamdaenv\n",
    "\n",
    "# !pip show Pillow | grep Location:\n",
    "%cd ~/anaconda3/envs/pytorch_latest_p36/lib/python3.6/site-packages\n",
    "!zip -r ../../../../../../SageMaker/lamdaenv/lambda-deployment-package.zip PIL Pillow-8.4.0.dist-info Pillow.libs\n",
    "%cd ../../../../../../SageMaker/lamdaenv\n",
    "!zip -g lambda-deployment-package.zip lambda_function.py"
   ]
  }
 ],
 "metadata": {
  "accelerator": "GPU",
  "colab": {
   "collapsed_sections": [],
   "name": "Detectron2 Tutorial Demo.ipynb",
   "provenance": [],
   "toc_visible": true
  },
  "kernelspec": {
   "display_name": "conda_pytorch_latest_p36",
   "language": "python",
   "name": "conda_pytorch_latest_p36"
  },
  "language_info": {
   "codemirror_mode": {
    "name": "ipython",
    "version": 3
   },
   "file_extension": ".py",
   "mimetype": "text/x-python",
   "name": "python",
   "nbconvert_exporter": "python",
   "pygments_lexer": "ipython3",
   "version": "3.6.13"
  }
 },
 "nbformat": 4,
 "nbformat_minor": 1
}
